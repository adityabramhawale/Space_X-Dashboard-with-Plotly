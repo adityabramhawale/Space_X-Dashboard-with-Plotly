{
    "cells": [
        {
            "metadata": {},
            "cell_type": "code",
            "source": "!pip install pandas dash",
            "execution_count": 1,
            "outputs": [
                {
                    "output_type": "stream",
                    "text": "Requirement already satisfied: pandas in /opt/conda/envs/Python-3.9/lib/python3.9/site-packages (1.3.4)\nRequirement already satisfied: dash in /opt/conda/envs/Python-3.9/lib/python3.9/site-packages (2.3.1)\nRequirement already satisfied: python-dateutil>=2.7.3 in /opt/conda/envs/Python-3.9/lib/python3.9/site-packages (from pandas) (2.8.2)\nRequirement already satisfied: pytz>=2017.3 in /opt/conda/envs/Python-3.9/lib/python3.9/site-packages (from pandas) (2021.3)\nRequirement already satisfied: numpy>=1.17.3 in /opt/conda/envs/Python-3.9/lib/python3.9/site-packages (from pandas) (1.20.3)\nRequirement already satisfied: dash-table==5.0.0 in /opt/conda/envs/Python-3.9/lib/python3.9/site-packages (from dash) (5.0.0)\nRequirement already satisfied: Flask>=1.0.4 in /opt/conda/envs/Python-3.9/lib/python3.9/site-packages (from dash) (2.1.1)\nRequirement already satisfied: dash-core-components==2.0.0 in /opt/conda/envs/Python-3.9/lib/python3.9/site-packages (from dash) (2.0.0)\nRequirement already satisfied: dash-html-components==2.0.0 in /opt/conda/envs/Python-3.9/lib/python3.9/site-packages (from dash) (2.0.0)\nRequirement already satisfied: flask-compress in /opt/conda/envs/Python-3.9/lib/python3.9/site-packages (from dash) (1.11)\nRequirement already satisfied: plotly>=5.0.0 in /opt/conda/envs/Python-3.9/lib/python3.9/site-packages (from dash) (5.1.0)\nRequirement already satisfied: importlib-metadata>=3.6.0 in /opt/conda/envs/Python-3.9/lib/python3.9/site-packages (from Flask>=1.0.4->dash) (4.8.2)\nRequirement already satisfied: itsdangerous>=2.0 in /opt/conda/envs/Python-3.9/lib/python3.9/site-packages (from Flask>=1.0.4->dash) (2.1.2)\nRequirement already satisfied: click>=8.0 in /opt/conda/envs/Python-3.9/lib/python3.9/site-packages (from Flask>=1.0.4->dash) (8.0.3)\nRequirement already satisfied: Werkzeug>=2.0 in /opt/conda/envs/Python-3.9/lib/python3.9/site-packages (from Flask>=1.0.4->dash) (2.0.2)\nRequirement already satisfied: Jinja2>=3.0 in /opt/conda/envs/Python-3.9/lib/python3.9/site-packages (from Flask>=1.0.4->dash) (3.0.2)\nRequirement already satisfied: zipp>=0.5 in /opt/conda/envs/Python-3.9/lib/python3.9/site-packages (from importlib-metadata>=3.6.0->Flask>=1.0.4->dash) (3.6.0)\nRequirement already satisfied: MarkupSafe>=2.0 in /opt/conda/envs/Python-3.9/lib/python3.9/site-packages (from Jinja2>=3.0->Flask>=1.0.4->dash) (2.0.1)\nRequirement already satisfied: tenacity>=6.2.0 in /opt/conda/envs/Python-3.9/lib/python3.9/site-packages (from plotly>=5.0.0->dash) (8.0.1)\nRequirement already satisfied: six in /opt/conda/envs/Python-3.9/lib/python3.9/site-packages (from plotly>=5.0.0->dash) (1.15.0)\nRequirement already satisfied: brotli in /opt/conda/envs/Python-3.9/lib/python3.9/site-packages (from flask-compress->dash) (1.0.9)\n",
                    "name": "stdout"
                }
            ]
        },
        {
            "metadata": {},
            "cell_type": "code",
            "source": "import pandas as pd\n\nurl = \"https://cf-courses-data.s3.us.cloud-object-storage.appdomain.cloud/IBM-DS0321EN-SkillsNetwork/datasets/spacex_launch_dash.csv\"\nspacex_df = pd.read_csv(url)\n\nprint(spacex_df.head())",
            "execution_count": 2,
            "outputs": [
                {
                    "output_type": "stream",
                    "text": "   Unnamed: 0  Flight Number  Launch Site  class  Payload Mass (kg)  \\\n0           0              1  CCAFS LC-40      0                0.0   \n1           1              2  CCAFS LC-40      0                0.0   \n2           2              3  CCAFS LC-40      0              525.0   \n3           3              4  CCAFS LC-40      0              500.0   \n4           4              5  CCAFS LC-40      0              677.0   \n\n  Booster Version Booster Version Category  \n0  F9 v1.0  B0003                     v1.0  \n1  F9 v1.0  B0004                     v1.0  \n2  F9 v1.0  B0005                     v1.0  \n3  F9 v1.0  B0006                     v1.0  \n4  F9 v1.0  B0007                     v1.0  \n",
                    "name": "stdout"
                }
            ]
        },
        {
            "metadata": {},
            "cell_type": "code",
            "source": "import dash\nimport dash_html_components as html\nimport dash_core_components as dcc\nfrom dash.dependencies import Input, Output\nimport plotly.express as px",
            "execution_count": 3,
            "outputs": [
                {
                    "output_type": "stream",
                    "text": "/tmp/wsuser/ipykernel_239/2585377039.py:2: UserWarning: \nThe dash_html_components package is deprecated. Please replace\n`import dash_html_components as html` with `from dash import html`\n  import dash_html_components as html\n/tmp/wsuser/ipykernel_239/2585377039.py:3: UserWarning: \nThe dash_core_components package is deprecated. Please replace\n`import dash_core_components as dcc` with `from dash import dcc`\n  import dash_core_components as dcc\n",
                    "name": "stderr"
                }
            ]
        },
        {
            "metadata": {},
            "cell_type": "code",
            "source": "# Read the airline data into pandas dataframe\n\nmax_payload = spacex_df['Payload Mass (kg)'].max()\nmin_payload = spacex_df['Payload Mass (kg)'].min()",
            "execution_count": 4,
            "outputs": []
        },
        {
            "metadata": {},
            "cell_type": "code",
            "source": "# Create a dash application\napp = dash.Dash(__name__)\n",
            "execution_count": 5,
            "outputs": []
        },
        {
            "metadata": {},
            "cell_type": "code",
            "source": "# Create an app layout\napp.layout = html.Div(children=[html.H1('SpaceX Launch Records Dashboard',\n                                        style={'textAlign': 'center', 'color': '#503D36',\n                                               'font-size': 40}),\n                                # TASK 1: Add a dropdown list to enable Launch Site selection\n                                # The default select value is for ALL sites\n                                # dcc.Dropdown(id='site-dropdown',...)\n                                dcc.Dropdown(id='site-dropdown',\n                                             options=[\n                                                     {'label': 'All Sites', 'value': 'ALL'},\n                                                     {'label': 'CCAFS LC-40', 'value': 'CCAFS LC-40'},\n                                                     {'label': 'VAFB SLC-4E', 'value': 'VAFB SLC-4E'},\n                                                     {'label': 'KSC LC-39A', 'value': 'KSC LC-39A'},\n                                                     {'label': 'CCAFS SLC-40', 'value': 'CCAFS SLC-40'}\n                                                     ],\n                                             value='ALL',\n                                             placeholder='Select a Launch Site here',\n                                             searchable=True\n                                             # style={'width':'80%','padding':'3px','font-size':'20px','text-align-last':'center'}\n                                             ),\n                                html.Br(),\n\n                                # TASK 2: Add a pie chart to show the total successful launches count for all sites\n                                # If a specific launch site was selected, show the Success vs. Failed counts for the site\n                                html.Div(dcc.Graph(id='success-pie-chart')),\n                                html.Br(),\n\n                                html.P(\"Payload range (Kg):\"),\n                                # TASK 3: Add a slider to select payload range\n                                #dcc.RangeSlider(id='payload-slider',...)\n                                dcc.RangeSlider(id='payload-slider',\n                                                min=0,\n                                                max=10000,\n                                                step=1000,\n                                                value=[min_payload, max_payload]\n                                                ),\n\n                                # TASK 4: Add a scatter chart to show the correlation between payload and launch success\n                                html.Div(dcc.Graph(id='success-payload-scatter-chart')),\n                                ])\n\n# TASK 2:\n# Add a callback function for `site-dropdown` as input, `success-pie-chart` as output\n@app.callback(Output(component_id='success-pie-chart', component_property='figure'),\n              Input(component_id='site-dropdown', component_property='value'))\ndef get_pie_chart(entered_site):\n    filtered_df = spacex_df\n    if entered_site == 'ALL':\n        fig = px.pie(filtered_df, values='class', \n        names='Launch Site', \n        title='Success Count for all launch sites')\n        return fig\n    else:\n        # return the outcomes piechart for a selected site\n        filtered_df=spacex_df[spacex_df['Launch Site']== entered_site]\n        filtered_df=filtered_df.groupby(['Launch Site','class']).size().reset_index(name='class count')\n        fig=px.pie(filtered_df,values='class count',names='class',title=f\"Total Success Launches for site {entered_site}\")\n        return fig\n\n# TASK 4:\n# Add a callback function for `site-dropdown` and `payload-slider` as inputs, `success-payload-scatter-chart` as output\n@app.callback(Output(component_id='success-payload-scatter-chart',component_property='figure'),\n                [Input(component_id='site-dropdown',component_property='value'),\n                Input(component_id='payload-slider',component_property='value')])\ndef scatter(entered_site,payload):\n    filtered_df = spacex_df[spacex_df['Payload Mass (kg)'].between(payload[0],payload[1])]\n    # thought reusing filtered_df may cause issues, but tried it out of curiosity and it seems to be working fine\n    \n    if entered_site=='ALL':\n        fig=px.scatter(filtered_df,x='Payload Mass (kg)',y='class',color='Booster Version Category',title='Success count on Payload mass for all sites')\n        return fig\n    else:\n        fig=px.scatter(filtered_df[filtered_df['Launch Site']==entered_site],x='Payload Mass (kg)',y='class',color='Booster Version Category',title=f\"Success count on Payload mass for site {entered_site}\")\n        return fig\n\n# Run the app\nif __name__ == '__main__':\n    app.run_server()",
            "execution_count": null,
            "outputs": [
                {
                    "output_type": "stream",
                    "text": "Dash is running on http://127.0.0.1:8050/\n\n * Serving Flask app '__main__' (lazy loading)\n * Environment: production\n\u001b[31m   WARNING: This is a development server. Do not use it in a production deployment.\u001b[0m\n\u001b[2m   Use a production WSGI server instead.\u001b[0m\n * Debug mode: off\n",
                    "name": "stdout"
                },
                {
                    "output_type": "stream",
                    "text": " * Running on http://127.0.0.1:8050/ (Press CTRL+C to quit)\n",
                    "name": "stderr"
                }
            ]
        }
    ],
    "metadata": {
        "kernelspec": {
            "name": "python3",
            "display_name": "Python 3.9",
            "language": "python"
        },
        "language_info": {
            "name": "python",
            "version": "3.9.7",
            "mimetype": "text/x-python",
            "codemirror_mode": {
                "name": "ipython",
                "version": 3
            },
            "pygments_lexer": "ipython3",
            "nbconvert_exporter": "python",
            "file_extension": ".py"
        }
    },
    "nbformat": 4,
    "nbformat_minor": 1
}